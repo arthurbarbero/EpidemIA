{
 "cells": [
  {
   "cell_type": "markdown",
   "metadata": {},
   "source": [
    "# EpidemIA"
   ]
  },
  {
   "cell_type": "markdown",
   "metadata": {},
   "source": [
    "## Introdução\n",
    "\n",
    "2019 foi um ano que irá ficar nos arautos da história, principalmente pela grande pandemia de uma nova doença com origem nos países asiáticos, uma evolução da SARS, denominada COVID-19.\n",
    "\n",
    "A ideia de passar novamente por uma epidemia assusta qualquer pessoa nos dias atuais, e olhando as ações que foram tomadas, a única forma de minimizar os problemas e causas é a rápida identificação e comunicação, ou seja, informação.\n",
    "\n",
    "Pensando no grande fluxo de dados públicos que poderíamos utilizar e na transparência de dados disponibilizados ao público, seria de fácil acesso para que pudéssemos traçar ligações entre doenças e sintomas aos locais de ocorrência, ou até com informações socioeconômicas, porém, infelizmente os dados que podemos acessar são escassos, e por mais que tenhamos acesso as estas informações do Portal da Saúde, só podemos visualizar dados de estatísticas vitais ou de mortalidade, algumas doenças epidemiológicas são citadas mas não existe a possibilidade de verificar novas doenças ou possíveis epidemias pela falta de padrão e informações mais qualificadas como localização, datas exatas, gênero, idade e etc ...\n",
    "\n",
    "Com este objetivo, coletando as informações de forma padronizada e com máximo de aproveitamento, utilizaremos a Inteligência Artificial para criar modelos que realizam diagnósticos preliminares com base nos sintomas informados pelo usuário.\n",
    "\n",
    "## Dados\n",
    "\n",
    "Os datasets utilizados neste arquivos estão disponibilizados no site [Kaggle](https://www.kaggle.com/plarmuseau/sdsort).\n",
    "\n"
   ]
  },
  {
   "cell_type": "markdown",
   "metadata": {},
   "source": [
    "### Importação dos dados"
   ]
  },
  {
   "cell_type": "code",
   "execution_count": 3,
   "metadata": {},
   "outputs": [],
   "source": [
    "import numpy as np\n",
    "import pandas as pd\n",
    "from scipy.sparse import coo_matrix\n",
    "from scipy.sparse.linalg import svds\n",
    "from sklearn.metrics.pairwise import cosine_similarity\n",
    "\n",
    "all_symptoms = pd.read_csv('archives/all_symptoms.csv', ';')\n",
    "all_diseases = pd.read_csv('archives/all_disease.csv', ';')"
   ]
  },
  {
   "cell_type": "markdown",
   "metadata": {},
   "source": [
    "### Leitura dos dados e criação dos dataframes"
   ]
  },
  {
   "cell_type": "code",
   "execution_count": 4,
   "metadata": {},
   "outputs": [],
   "source": [
    "def read_data(filename, separator):\n",
    "    \"\"\" Reads in the dataset, and returns a tuple of a pandas dataframe and a sparse matrix of symptom/disease/severity \"\"\"\n",
    "    data = pd.read_csv(filename, separator, usecols=[0,1,2], names=['symptom', 'disease','sev'], skiprows=1)\n",
    "\n",
    "    data=data.dropna(axis=0, how='any')  #drop nan\n",
    "    \n",
    "    # map each disease and symptom to a unique numeric value\n",
    "    data['symptom'] = data['symptom'].astype(\"category\")\n",
    "    data['disease'] = data['disease'].astype(\"category\")\n",
    "\n",
    "    # create a sparse matrix of all the symptoms/severities\n",
    "    sev = coo_matrix((data['sev'].astype(float),\n",
    "                       (data['disease'].cat.codes.copy(),\n",
    "                        data['symptom'].cat.codes.copy())))\n",
    "    \n",
    "    return data, sev, data.groupby(['disease']).sev.sum(), data['symptom'].cat.codes.copy()\n"
   ]
  },
  {
   "cell_type": "code",
   "execution_count": 5,
   "metadata": {},
   "outputs": [
    {
     "data": {
      "text/plain": [
       "array([[0., 0., 0., ..., 0., 0., 0.],\n",
       "       [0., 0., 0., ..., 0., 0., 0.],\n",
       "       [0., 1., 0., ..., 0., 0., 0.],\n",
       "       ...,\n",
       "       [0., 0., 0., ..., 0., 0., 0.],\n",
       "       [0., 0., 0., ..., 0., 0., 0.],\n",
       "       [0., 0., 0., ..., 0., 0., 0.]])"
      ]
     },
     "execution_count": 5,
     "metadata": {},
     "output_type": "execute_result"
    }
   ],
   "source": [
    "data, matrix, sum_disease, symptom = read_data('archives/dataset.csv', ';')\n",
    "data.head()"
   ]
  },
  {
   "cell_type": "markdown",
   "metadata": {},
   "source": [
    "### Utilização do algorítmo de peso Okapi BM25"
   ]
  },
  {
   "cell_type": "code",
   "execution_count": 6,
   "metadata": {},
   "outputs": [],
   "source": [
    "def bm25_weight(data, K1=1.5, B=0.75):\n",
    "    \"\"\" Weighs each row of the matrix data by BM25 weighting \"\"\"\n",
    "    # calculate idf per term (symptom)\n",
    "    N = float(data.shape[0])\n",
    "    idf = np.log(N / (1 + np.bincount(data.col)))\n",
    "\n",
    "    # calculate length_norm per document (disease)\n",
    "    row_sums = np.squeeze(np.asarray(data.sum(1)))\n",
    "    average_length = row_sums.sum() / N\n",
    "    length_norm = (1.0 - B) + B * row_sums / average_length\n",
    "\n",
    "    # weight matrix rows by bm25\n",
    "    ret = coo_matrix(data)\n",
    "    ret.data = ret.data * (K1 + 1.0) / (K1 * length_norm[ret.row] + ret.data) * idf[ret.col]\n",
    "    return ret\n",
    "\n",
    "symptom_count = data.groupby('symptom').size()\n"
   ]
  },
  {
   "cell_type": "markdown",
   "metadata": {},
   "source": [
    "### Utilização de divisão singular do dataframe\n",
    "\n",
    "O scipy.sparse.linalg.svds realiza a divisão linear entre as linhas e colunas e demonstra a singularidade entre cada nódulo do dataframe, mais informações [clique aqui](https://docs.scipy.org/doc/scipy/reference/generated/scipy.sparse.linalg.svds.html)"
   ]
  },
  {
   "cell_type": "code",
   "execution_count": 7,
   "metadata": {},
   "outputs": [
    {
     "name": "stdout",
     "output_type": "stream",
     "text": [
      "Doenças com nível de singularidade por cada peso  (1166, 100)\n",
      "---------------\n",
      "Valores singulares para cada nódulo (100,)\n",
      "---------------\n",
      "Sintomas com nível de singularidade por cada peso (100, 272) \n",
      "         0         1         2         3         4         5         6    \\\n",
      "0  0.014101  0.051303 -0.025409 -0.017391  0.008442  0.028194 -0.000629   \n",
      "1  0.059150  0.027501 -0.030196  0.130698 -0.009655 -0.014612  0.050925   \n",
      "2 -0.055753 -0.080138 -0.025759 -0.046833  0.034591  0.009857 -0.005437   \n",
      "3 -0.076163  0.032048 -0.026198  0.024312 -0.000546 -0.022696 -0.074752   \n",
      "4 -0.021006 -0.012745  0.004355 -0.001930  0.019102  0.018667 -0.128631   \n",
      "\n",
      "        7         8         9    ...       262       263       264       265  \\\n",
      "0 -0.043522  0.012414  0.035019  ...  0.018039  0.003366 -0.047162  0.026827   \n",
      "1 -0.020046  0.003795  0.069810  ...  0.000769  0.014065 -0.045792 -0.021742   \n",
      "2  0.028634  0.008370 -0.013135  ... -0.009764  0.001649  0.034429 -0.037671   \n",
      "3  0.015704  0.027511  0.055913  ...  0.121269  0.027051  0.132167 -0.032598   \n",
      "4  0.043967  0.063800  0.016152  ... -0.004140  0.020477 -0.068927  0.020011   \n",
      "\n",
      "        266       267       268       269       270       271  \n",
      "0  0.010454 -0.013781 -0.028815  0.009059 -0.003206  0.190024  \n",
      "1  0.065621 -0.016211  0.004819  0.014903  0.022409  0.024220  \n",
      "2 -0.019711 -0.024517 -0.085323 -0.034707 -0.071435 -0.110861  \n",
      "3  0.008618 -0.021013  0.118647  0.085103 -0.045572  0.037453  \n",
      "4  0.008212  0.012706 -0.055165 -0.026280 -0.006092 -0.049265  \n",
      "\n",
      "[5 rows x 272 columns]\n",
      "---------------\n",
      "Quantidade de doenças (1166,)\n",
      "Quantidade de sintomas (272,)\n"
     ]
    }
   ],
   "source": [
    "Ur, Si, VTr = svds(bm25_weight(matrix), k=100)\n",
    "VTr=pd.DataFrame(VTr)\n",
    "\n",
    "print(\"Doenças com nível de singularidade por cada peso \", Ur.shape)\n",
    "print(\"---------------\")\n",
    "\n",
    "print(\"Valores singulares para cada nódulo\", Si.shape)\n",
    "print(\"---------------\")\n",
    "\n",
    "print(\"Sintomas com nível de singularidade por cada peso\", VTr.shape, \"\\n\", VTr.head())\n",
    "print(\"---------------\")\n",
    "\n",
    "print(\"Quantidade de doenças\", sum_disease.shape)\n",
    "print(\"Quantidade de sintomas\", symptom_count.shape)\n"
   ]
  },
  {
   "cell_type": "markdown",
   "metadata": {},
   "source": [
    "## Cosine Similarity"
   ]
  },
  {
   "cell_type": "code",
   "execution_count": 20,
   "metadata": {},
   "outputs": [
    {
     "data": {
      "text/html": [
       "<div>\n",
       "<style scoped>\n",
       "    .dataframe tbody tr th:only-of-type {\n",
       "        vertical-align: middle;\n",
       "    }\n",
       "\n",
       "    .dataframe tbody tr th {\n",
       "        vertical-align: top;\n",
       "    }\n",
       "\n",
       "    .dataframe thead th {\n",
       "        text-align: right;\n",
       "    }\n",
       "</style>\n",
       "<table border=\"1\" class=\"dataframe\">\n",
       "  <thead>\n",
       "    <tr style=\"text-align: right;\">\n",
       "      <th>symptom</th>\n",
       "      <th>1</th>\n",
       "      <th>2</th>\n",
       "      <th>3</th>\n",
       "      <th>4</th>\n",
       "      <th>5</th>\n",
       "      <th>6</th>\n",
       "      <th>7</th>\n",
       "      <th>8</th>\n",
       "      <th>9</th>\n",
       "      <th>10</th>\n",
       "      <th>...</th>\n",
       "      <th>290</th>\n",
       "      <th>291</th>\n",
       "      <th>292</th>\n",
       "      <th>293</th>\n",
       "      <th>294</th>\n",
       "      <th>295</th>\n",
       "      <th>301</th>\n",
       "      <th>303</th>\n",
       "      <th>304</th>\n",
       "      <th>306</th>\n",
       "    </tr>\n",
       "  </thead>\n",
       "  <tbody>\n",
       "    <tr>\n",
       "      <th>1</th>\n",
       "      <td>0.205484</td>\n",
       "      <td>0.272114</td>\n",
       "      <td>0.043167</td>\n",
       "      <td>-0.047387</td>\n",
       "      <td>-0.021459</td>\n",
       "      <td>0.015953</td>\n",
       "      <td>0.633309</td>\n",
       "      <td>-0.019115</td>\n",
       "      <td>-0.073327</td>\n",
       "      <td>-0.012857</td>\n",
       "      <td>...</td>\n",
       "      <td>-0.029264</td>\n",
       "      <td>-0.128676</td>\n",
       "      <td>-0.001867</td>\n",
       "      <td>-0.023130</td>\n",
       "      <td>-0.015429</td>\n",
       "      <td>0.002837</td>\n",
       "      <td>-0.018442</td>\n",
       "      <td>-0.040733</td>\n",
       "      <td>-0.045832</td>\n",
       "      <td>0.113079</td>\n",
       "    </tr>\n",
       "    <tr>\n",
       "      <th>2</th>\n",
       "      <td>-0.046659</td>\n",
       "      <td>-0.078299</td>\n",
       "      <td>-0.071982</td>\n",
       "      <td>0.063161</td>\n",
       "      <td>0.045799</td>\n",
       "      <td>-0.004549</td>\n",
       "      <td>-0.168562</td>\n",
       "      <td>0.049388</td>\n",
       "      <td>0.049649</td>\n",
       "      <td>-0.014734</td>\n",
       "      <td>...</td>\n",
       "      <td>0.074478</td>\n",
       "      <td>0.079732</td>\n",
       "      <td>0.024173</td>\n",
       "      <td>0.001410</td>\n",
       "      <td>-0.000718</td>\n",
       "      <td>-0.005382</td>\n",
       "      <td>-0.054203</td>\n",
       "      <td>0.022342</td>\n",
       "      <td>-0.022638</td>\n",
       "      <td>-0.059992</td>\n",
       "    </tr>\n",
       "    <tr>\n",
       "      <th>3</th>\n",
       "      <td>0.114272</td>\n",
       "      <td>0.381978</td>\n",
       "      <td>0.005659</td>\n",
       "      <td>0.049680</td>\n",
       "      <td>-0.043052</td>\n",
       "      <td>-0.014820</td>\n",
       "      <td>0.091332</td>\n",
       "      <td>-0.013405</td>\n",
       "      <td>-0.059609</td>\n",
       "      <td>0.009341</td>\n",
       "      <td>...</td>\n",
       "      <td>-0.033005</td>\n",
       "      <td>-0.009946</td>\n",
       "      <td>-0.020345</td>\n",
       "      <td>0.013041</td>\n",
       "      <td>0.019639</td>\n",
       "      <td>0.024916</td>\n",
       "      <td>-0.026550</td>\n",
       "      <td>-0.056702</td>\n",
       "      <td>0.056844</td>\n",
       "      <td>0.133652</td>\n",
       "    </tr>\n",
       "    <tr>\n",
       "      <th>4</th>\n",
       "      <td>0.017050</td>\n",
       "      <td>0.022067</td>\n",
       "      <td>-0.036084</td>\n",
       "      <td>0.040988</td>\n",
       "      <td>0.001289</td>\n",
       "      <td>0.038791</td>\n",
       "      <td>-0.050136</td>\n",
       "      <td>-0.021242</td>\n",
       "      <td>-0.006880</td>\n",
       "      <td>-0.012500</td>\n",
       "      <td>...</td>\n",
       "      <td>0.009720</td>\n",
       "      <td>-0.006165</td>\n",
       "      <td>-0.050009</td>\n",
       "      <td>-0.007232</td>\n",
       "      <td>0.016348</td>\n",
       "      <td>0.006368</td>\n",
       "      <td>0.022296</td>\n",
       "      <td>-0.005299</td>\n",
       "      <td>0.028985</td>\n",
       "      <td>0.002352</td>\n",
       "    </tr>\n",
       "    <tr>\n",
       "      <th>5</th>\n",
       "      <td>-0.034572</td>\n",
       "      <td>-0.030762</td>\n",
       "      <td>-0.051101</td>\n",
       "      <td>-0.086641</td>\n",
       "      <td>-0.025164</td>\n",
       "      <td>0.005332</td>\n",
       "      <td>-0.028281</td>\n",
       "      <td>0.025686</td>\n",
       "      <td>-0.041621</td>\n",
       "      <td>-0.038750</td>\n",
       "      <td>...</td>\n",
       "      <td>-0.017533</td>\n",
       "      <td>0.007516</td>\n",
       "      <td>0.002488</td>\n",
       "      <td>-0.010030</td>\n",
       "      <td>0.002354</td>\n",
       "      <td>0.009506</td>\n",
       "      <td>0.020183</td>\n",
       "      <td>0.000352</td>\n",
       "      <td>0.013323</td>\n",
       "      <td>0.140841</td>\n",
       "    </tr>\n",
       "  </tbody>\n",
       "</table>\n",
       "<p>5 rows × 272 columns</p>\n",
       "</div>"
      ],
      "text/plain": [
       "symptom         1         2         3         4         5         6         7  \\\n",
       "1        0.205484  0.272114  0.043167 -0.047387 -0.021459  0.015953  0.633309   \n",
       "2       -0.046659 -0.078299 -0.071982  0.063161  0.045799 -0.004549 -0.168562   \n",
       "3        0.114272  0.381978  0.005659  0.049680 -0.043052 -0.014820  0.091332   \n",
       "4        0.017050  0.022067 -0.036084  0.040988  0.001289  0.038791 -0.050136   \n",
       "5       -0.034572 -0.030762 -0.051101 -0.086641 -0.025164  0.005332 -0.028281   \n",
       "\n",
       "symptom         8         9        10  ...       290       291       292  \\\n",
       "1       -0.019115 -0.073327 -0.012857  ... -0.029264 -0.128676 -0.001867   \n",
       "2        0.049388  0.049649 -0.014734  ...  0.074478  0.079732  0.024173   \n",
       "3       -0.013405 -0.059609  0.009341  ... -0.033005 -0.009946 -0.020345   \n",
       "4       -0.021242 -0.006880 -0.012500  ...  0.009720 -0.006165 -0.050009   \n",
       "5        0.025686 -0.041621 -0.038750  ... -0.017533  0.007516  0.002488   \n",
       "\n",
       "symptom       293       294       295       301       303       304       306  \n",
       "1       -0.023130 -0.015429  0.002837 -0.018442 -0.040733 -0.045832  0.113079  \n",
       "2        0.001410 -0.000718 -0.005382 -0.054203  0.022342 -0.022638 -0.059992  \n",
       "3        0.013041  0.019639  0.024916 -0.026550 -0.056702  0.056844  0.133652  \n",
       "4       -0.007232  0.016348  0.006368  0.022296 -0.005299  0.028985  0.002352  \n",
       "5       -0.010030  0.002354  0.009506  0.020183  0.000352  0.013323  0.140841  \n",
       "\n",
       "[5 rows x 272 columns]"
      ]
     },
     "execution_count": 20,
     "metadata": {},
     "output_type": "execute_result"
    }
   ],
   "source": [
    "Disease_df = pd.DataFrame(cosine_similarity(Ur,VTr.T), columns=symptom_count.index, index=list(sum_disease.index)) \n",
    "Disease_df.head()"
   ]
  },
  {
   "cell_type": "markdown",
   "metadata": {},
   "source": [
    "### Demonstração de usabilidade"
   ]
  },
  {
   "cell_type": "code",
   "execution_count": 7,
   "metadata": {},
   "outputs": [
    {
     "name": "stdout",
     "output_type": "stream",
     "text": [
      "Sintoma      Symptom_id Symptom_desc\n",
      "33          35    Foot pain\n",
      "Top 10 prováveis doênças relacionadas\n",
      "--------------------------------------\n",
      "1098 ['Heel spur']\n",
      "1097 ['Flat feet pes planus']\n",
      "621 ['Puncture wound']\n",
      "582 ['Plantar wart human papilloma virus infection, foot warts']\n",
      "581 ['Plantar fasciitis inflammation of tissue at the bottom of the foot']\n",
      "963 [\"Sever's disease calcaneal apophysitis, common cause of heel pain\"]\n",
      "1287 ['Foot sprain']\n",
      "947 ['Foot fracture broken foot']\n",
      "323 ['Bunion of big toe hallux valgus']\n",
      "124 ['Calluses and corns']\n"
     ]
    }
   ],
   "source": [
    "#Sintoma 35 = Foot pain\n",
    "\n",
    "print(\"Sintoma \", all_symptoms[all_symptoms['Symptom_id'] == 35])\n",
    "print(\"Top 10 prováveis doênças relacionadas\")\n",
    "print(\"--------------------------------------\")\n",
    "listProb = Disease_df[35].sort_values(ascending=False).index\n",
    "for x in listProb[:10]:\n",
    "    print(x, all_diseases[all_diseases['Disease_id'] == x].Disease_desc.values)"
   ]
  }
 ],
 "metadata": {
  "kernelspec": {
   "display_name": "Python 3",
   "language": "python",
   "name": "python3"
  },
  "language_info": {
   "codemirror_mode": {
    "name": "ipython",
    "version": 3
   },
   "file_extension": ".py",
   "mimetype": "text/x-python",
   "name": "python",
   "nbconvert_exporter": "python",
   "pygments_lexer": "ipython3",
   "version": "3.6.9"
  }
 },
 "nbformat": 4,
 "nbformat_minor": 2
}
