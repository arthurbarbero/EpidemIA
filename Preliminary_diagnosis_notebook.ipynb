{
 "cells": [
  {
   "cell_type": "code",
   "execution_count": 17,
   "id": "norwegian-reproduction",
   "metadata": {},
   "outputs": [],
   "source": [
    "import numpy as np\n",
    "import pandas as pd\n",
    "from scipy.sparse import coo_matrix\n",
    "from scipy.sparse.linalg import svds\n",
    "from sklearn.metrics.pairwise import cosine_similarity"
   ]
  },
  {
   "cell_type": "code",
   "execution_count": 18,
   "id": "fabulous-seller",
   "metadata": {},
   "outputs": [],
   "source": [
    "class preliminary_diagnosis():    \n",
    "    def __init__(self, b=0.3, k=1, symptoms = pd.DataFrame(), diseases = pd.DataFrame()):\n",
    "        self.b = b\n",
    "        self.k = k\n",
    "        self.all_symptoms = symptoms\n",
    "        self.all_diseases = diseases\n",
    "        \n",
    "        \n",
    "    def bm25_weight(self, data, K1=1, B=0.3):\n",
    "        \"\"\" Weighs each row of the matrix data by BM25 weighting \"\"\"\n",
    "        # calculate idf per term (symptom)\n",
    "        N = float(data.shape[0])\n",
    "        idf = np.log(N / (1 + np.bincount(data.col)))\n",
    "\n",
    "        # calculate length_norm per document (disease)\n",
    "        row_sums = np.squeeze(np.asarray(data.sum(1)))\n",
    "        average_length = row_sums.sum() / N\n",
    "        length_norm = (1.0 - B) + B * row_sums / average_length\n",
    "\n",
    "        # weight matrix rows by bm25\n",
    "        ret = coo_matrix(data)\n",
    "        ret.data = ret.data * (K1 + 1.0) / (K1 * length_norm[ret.row] + ret.data) * idf[ret.col]\n",
    "        return ret\n",
    "    \n",
    "    \n",
    "    def fit(self, filename, separator):\n",
    "        \"\"\" Reads in the dataset, and returns a tuple of a pandas dataframe and a sparse matrix of symptom/disease/severity \"\"\"\n",
    "        data = pd.read_csv(filename, \n",
    "                           separator, \n",
    "                           usecols=[0,1,2], \n",
    "                           names=['symptom', 'disease','severities'], \n",
    "                           skiprows=1)\n",
    "\n",
    "        data=data.dropna()\n",
    "\n",
    "        # map each disease and symptom to a unique numeric value\n",
    "        data['symptom'] = data['symptom'].astype(\"category\")\n",
    "        data['disease'] = data['disease'].astype(\"category\")\n",
    "\n",
    "        # create a sparse matrix of all the symptoms/severities\n",
    "        sev = coo_matrix((data['severities'].astype(float),\n",
    "                           (data['disease'].cat.codes.copy(),\n",
    "                            data['symptom'].cat.codes.copy())))\n",
    "\n",
    "        self.data = data\n",
    "        self.matrix = sev\n",
    "        self.sum_disease = data.groupby(['disease']).severities.sum()\n",
    "        self.symptom = data['symptom'].cat.codes.copy()\n",
    "        \n",
    "        self.symptom_count = data.groupby('symptom').size()\n",
    "        \n",
    "        Ur, Si, VTr = svds(self.bm25_weight(self.matrix), k=100)\n",
    "        VTr = pd.DataFrame(VTr)\n",
    "        \n",
    "        self.dataset_result = pd.DataFrame(cosine_similarity(Ur,VTr.T), columns=self.symptom_count.index, index=list(self.sum_disease.index)) \n",
    "\n",
    "    def get_diseases_by_symptoms(self, symptom_id):\n",
    "        print(\"Sintoma \", (self.all_symptoms[self.all_symptoms['Symptom_id'] == symptom_id])['Symptom_desc'].values[0])\n",
    "        print(\"Top 10 prováveis doênças relacionadas\")\n",
    "        print(\"--------------------------------------\")\n",
    "        listProb = self.dataset_result[symptom_id].sort_values(ascending=False).index\n",
    "        for x in listProb[:10]:\n",
    "            print(x, self.all_diseases[self.all_diseases['Disease_id'] == x].Disease_desc.values)"
   ]
  },
  {
   "cell_type": "code",
   "execution_count": 34,
   "id": "hawaiian-cleaners",
   "metadata": {},
   "outputs": [
    {
     "name": "stdout",
     "output_type": "stream",
     "text": [
      "Sintoma  Foot pain\n",
      "Top 10 prováveis doênças relacionadas\n",
      "--------------------------------------\n",
      "1098 ['Heel spur']\n",
      "582 ['Plantar wart human papilloma virus infection, foot warts']\n",
      "1097 ['Flat feet pes planus']\n",
      "621 ['Puncture wound']\n",
      "963 [\"Sever's disease calcaneal apophysitis, common cause of heel pain\"]\n",
      "581 ['Plantar fasciitis inflammation of tissue at the bottom of the foot']\n",
      "947 ['Foot fracture broken foot']\n",
      "1287 ['Foot sprain']\n",
      "324 ['Hammer toes toe deformity']\n",
      "323 ['Bunion of big toe hallux valgus']\n"
     ]
    }
   ],
   "source": [
    "all_symptoms = pd.read_csv('archives/all_symptoms.csv', ';')\n",
    "all_diseases = pd.read_csv('archives/all_disease.csv', ';')\n",
    "\n",
    "modelo = preliminary_diagnosis(k=1, b=0.3, symptoms = all_symptoms, diseases = all_diseases)\n",
    "modelo.fit('archives/Incidencias.csv', ';')\n",
    "modelo.get_diseases_by_symptoms(35)"
   ]
  }
 ],
 "metadata": {
  "kernelspec": {
   "display_name": "Python 3",
   "language": "python",
   "name": "python3"
  },
  "language_info": {
   "codemirror_mode": {
    "name": "ipython",
    "version": 3
   },
   "file_extension": ".py",
   "mimetype": "text/x-python",
   "name": "python",
   "nbconvert_exporter": "python",
   "pygments_lexer": "ipython3",
   "version": "3.6.9"
  }
 },
 "nbformat": 4,
 "nbformat_minor": 5
}
