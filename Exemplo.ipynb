{
 "cells": [
  {
   "cell_type": "markdown",
   "metadata": {},
   "source": [
    "# EpidemIA"
   ]
  },
  {
   "cell_type": "markdown",
   "metadata": {},
   "source": [
    "## Introdução\n",
    "\n",
    "2019 foi um ano que irá ficar nos arautos da história, principalmente pela grande pandemia de uma nova doença com origem nos países asiáticos, uma evolução da SARS, denominada COVID-19.\n",
    "\n",
    "A ideia de passar novamente por uma epidemia assusta qualquer pessoa nos dias atuais, e olhando as ações que foram tomadas, a única forma de minimizar os problemas e causas é a rápida identificação e comunicação, ou seja, informação.\n",
    "\n",
    "Pensando no grande fluxo de dados públicos que poderíamos utilizar e na transparência de dados disponibilizados ao público, seria de fácil acesso para que pudéssemos traçar ligações entre doenças e sintomas aos locais de ocorrência, ou até com informações socioeconômicas, porém, infelizmente os dados que podemos acessar são escassos, e por mais que tenhamos acesso as estas informações do Portal da Saúde, só podemos visualizar dados de estatísticas vitais ou de mortalidade, algumas doenças epidemiológicas são citadas mas não existe a possibilidade de verificar novas doenças ou possíveis epidemias pela falta de padrão e informações mais qualificadas como localização, datas exatas, gênero, idade e etc ...\n",
    "\n",
    "Com este objetivo, coletando as informações de forma padronizada e com máximo de aproveitamento, utilizaremos a Inteligência Artificial para criar modelos que realizam diagnósticos preliminares com base nos sintomas informados pelo usuário.\n",
    "\n",
    "## Dados\n",
    "\n",
    "Os datasets utilizados neste arquivos estão disponibilizados no site [Kaggle](https://www.kaggle.com/plarmuseau/sdsort).\n",
    "\n"
   ]
  },
  {
   "cell_type": "markdown",
   "metadata": {},
   "source": [
    "### Importação dos dados"
   ]
  },
  {
   "cell_type": "code",
   "execution_count": 1,
   "metadata": {},
   "outputs": [],
   "source": [
    "import numpy as np\n",
    "import pandas as pd\n",
    "from scipy.sparse import coo_matrix\n",
    "from scipy.sparse.linalg import svds\n",
    "from sklearn.metrics.pairwise import cosine_similarity"
   ]
  },
  {
   "cell_type": "markdown",
   "metadata": {},
   "source": [
    "### Leitura dos dados e criação dos dataframes"
   ]
  },
  {
   "cell_type": "code",
   "execution_count": 2,
   "metadata": {},
   "outputs": [],
   "source": [
    "def read_data(filename, separator):\n",
    "    \"\"\" Reads in the dataset, and returns a tuple of a pandas dataframe and a sparse matrix of symptom/disease/severity \"\"\"\n",
    "    data = pd.read_csv(filename, \n",
    "                       separator, \n",
    "                       usecols=[0,1,2], \n",
    "                       names=['symptom', 'disease','severities'], \n",
    "                       skiprows=1)\n",
    "\n",
    "    data=data.dropna()\n",
    "    \n",
    "    # map each disease and symptom to a unique numeric value\n",
    "    data['symptom'] = data['symptom'].astype(\"category\")\n",
    "    data['disease'] = data['disease'].astype(\"category\")\n",
    "\n",
    "    # create a sparse matrix of all the symptoms/severities\n",
    "    sev = coo_matrix((data['severities'].astype(float),\n",
    "                       (data['disease'].cat.codes.copy(),\n",
    "                        data['symptom'].cat.codes.copy())))\n",
    "    \n",
    "    return data, sev, data.groupby(['disease']).severities.sum(), data['symptom'].cat.codes.copy()\n"
   ]
  },
  {
   "cell_type": "code",
   "execution_count": 13,
   "metadata": {},
   "outputs": [
    {
     "data": {
      "text/plain": [
       "array([[0., 0., 0., ..., 0., 0., 0.],\n",
       "       [0., 0., 0., ..., 0., 0., 0.],\n",
       "       [0., 1., 0., ..., 0., 0., 0.],\n",
       "       ...,\n",
       "       [0., 0., 0., ..., 0., 0., 0.],\n",
       "       [0., 0., 0., ..., 0., 0., 0.],\n",
       "       [0., 0., 0., ..., 0., 0., 0.]])"
      ]
     },
     "execution_count": 13,
     "metadata": {},
     "output_type": "execute_result"
    }
   ],
   "source": [
    "all_symptoms = pd.read_csv('archives/all_symptoms.csv', ';')\n",
    "all_diseases = pd.read_csv('archives/all_disease.csv', ';')\n",
    "\n",
    "data, matrix, sum_disease, symptom = read_data('archives/dataset.csv', ';')\n",
    "matrix.toarray()"
   ]
  },
  {
   "cell_type": "markdown",
   "metadata": {},
   "source": [
    "### Utilização do algorítmo de peso Okapi BM25"
   ]
  },
  {
   "cell_type": "code",
   "execution_count": 14,
   "metadata": {},
   "outputs": [],
   "source": [
    "def bm25_weight(data, K1=1.5, B=0.75):\n",
    "    \"\"\" Weighs each row of the matrix data by BM25 weighting \"\"\"\n",
    "    # calculate idf per term (symptom)\n",
    "    N = float(data.shape[0])\n",
    "    idf = np.log(N / (1 + np.bincount(data.col)))\n",
    "\n",
    "    # calculate length_norm per document (disease)\n",
    "    row_sums = np.squeeze(np.asarray(data.sum(1)))\n",
    "    average_length = row_sums.sum() / N\n",
    "    length_norm = (1.0 - B) + B * row_sums / average_length\n",
    "\n",
    "    # weight matrix rows by bm25\n",
    "    ret = coo_matrix(data)\n",
    "    ret.data = ret.data * (K1 + 1.0) / (K1 * length_norm[ret.row] + ret.data) * idf[ret.col]\n",
    "    return ret\n",
    "\n",
    "symptom_count = data.groupby('symptom').size()\n"
   ]
  },
  {
   "cell_type": "markdown",
   "metadata": {},
   "source": [
    "### Utilização de divisão singular do dataframe\n",
    "\n",
    "O scipy.sparse.linalg.svds realiza a divisão linear entre as linhas e colunas e demonstra a singularidade entre cada nódulo do dataframe, mais informações [clique aqui](https://docs.scipy.org/doc/scipy/reference/generated/scipy.sparse.linalg.svds.html)"
   ]
  },
  {
   "cell_type": "code",
   "execution_count": 15,
   "metadata": {},
   "outputs": [
    {
     "name": "stdout",
     "output_type": "stream",
     "text": [
      "Doenças com nível de singularidade por cada peso  (1166, 100)\n",
      "---------------\n",
      "Valores singulares para cada nódulo (100,)\n",
      "---------------\n",
      "Sintomas com nível de singularidade por cada peso (100, 272)\n",
      "---------------\n",
      "Quantidade de doenças (1166,)\n",
      "Quantidade de sintomas (272,)\n"
     ]
    }
   ],
   "source": [
    "Ur, Si, VTr = svds(bm25_weight(matrix), k=100)\n",
    "VTr=pd.DataFrame(VTr)\n",
    "\n",
    "print(\"Doenças com nível de singularidade por cada peso \", Ur.shape)\n",
    "print(\"---------------\")\n",
    "\n",
    "print(\"Valores singulares para cada nódulo\", Si.shape)\n",
    "print(\"---------------\")\n",
    "\n",
    "print(\"Sintomas com nível de singularidade por cada peso\", VTr.shape)\n",
    "print(\"---------------\")\n",
    "\n",
    "print(\"Quantidade de doenças\", sum_disease.shape)\n",
    "print(\"Quantidade de sintomas\", symptom_count.shape)\n"
   ]
  },
  {
   "cell_type": "markdown",
   "metadata": {},
   "source": [
    "## Cosine Similarity"
   ]
  },
  {
   "cell_type": "code",
   "execution_count": 16,
   "metadata": {},
   "outputs": [
    {
     "data": {
      "text/html": [
       "<div>\n",
       "<style scoped>\n",
       "    .dataframe tbody tr th:only-of-type {\n",
       "        vertical-align: middle;\n",
       "    }\n",
       "\n",
       "    .dataframe tbody tr th {\n",
       "        vertical-align: top;\n",
       "    }\n",
       "\n",
       "    .dataframe thead th {\n",
       "        text-align: right;\n",
       "    }\n",
       "</style>\n",
       "<table border=\"1\" class=\"dataframe\">\n",
       "  <thead>\n",
       "    <tr style=\"text-align: right;\">\n",
       "      <th>symptom</th>\n",
       "      <th>1</th>\n",
       "      <th>2</th>\n",
       "      <th>3</th>\n",
       "      <th>4</th>\n",
       "      <th>5</th>\n",
       "      <th>6</th>\n",
       "      <th>7</th>\n",
       "      <th>8</th>\n",
       "      <th>9</th>\n",
       "      <th>10</th>\n",
       "      <th>...</th>\n",
       "      <th>290</th>\n",
       "      <th>291</th>\n",
       "      <th>292</th>\n",
       "      <th>293</th>\n",
       "      <th>294</th>\n",
       "      <th>295</th>\n",
       "      <th>301</th>\n",
       "      <th>303</th>\n",
       "      <th>304</th>\n",
       "      <th>306</th>\n",
       "    </tr>\n",
       "  </thead>\n",
       "  <tbody>\n",
       "    <tr>\n",
       "      <th>1</th>\n",
       "      <td>0.205484</td>\n",
       "      <td>0.272114</td>\n",
       "      <td>0.043167</td>\n",
       "      <td>-0.047387</td>\n",
       "      <td>-0.021459</td>\n",
       "      <td>0.015953</td>\n",
       "      <td>0.633309</td>\n",
       "      <td>-0.019115</td>\n",
       "      <td>-0.073327</td>\n",
       "      <td>-0.012857</td>\n",
       "      <td>...</td>\n",
       "      <td>-0.029264</td>\n",
       "      <td>-0.128676</td>\n",
       "      <td>-0.001867</td>\n",
       "      <td>-0.023130</td>\n",
       "      <td>-0.015429</td>\n",
       "      <td>0.002837</td>\n",
       "      <td>-0.018442</td>\n",
       "      <td>-0.040733</td>\n",
       "      <td>-0.045832</td>\n",
       "      <td>0.113079</td>\n",
       "    </tr>\n",
       "    <tr>\n",
       "      <th>2</th>\n",
       "      <td>-0.046659</td>\n",
       "      <td>-0.078299</td>\n",
       "      <td>-0.071982</td>\n",
       "      <td>0.063161</td>\n",
       "      <td>0.045799</td>\n",
       "      <td>-0.004549</td>\n",
       "      <td>-0.168562</td>\n",
       "      <td>0.049388</td>\n",
       "      <td>0.049649</td>\n",
       "      <td>-0.014734</td>\n",
       "      <td>...</td>\n",
       "      <td>0.074478</td>\n",
       "      <td>0.079732</td>\n",
       "      <td>0.024173</td>\n",
       "      <td>0.001410</td>\n",
       "      <td>-0.000718</td>\n",
       "      <td>-0.005382</td>\n",
       "      <td>-0.054203</td>\n",
       "      <td>0.022342</td>\n",
       "      <td>-0.022638</td>\n",
       "      <td>-0.059992</td>\n",
       "    </tr>\n",
       "    <tr>\n",
       "      <th>3</th>\n",
       "      <td>0.114272</td>\n",
       "      <td>0.381978</td>\n",
       "      <td>0.005659</td>\n",
       "      <td>0.049680</td>\n",
       "      <td>-0.043052</td>\n",
       "      <td>-0.014820</td>\n",
       "      <td>0.091332</td>\n",
       "      <td>-0.013405</td>\n",
       "      <td>-0.059609</td>\n",
       "      <td>0.009341</td>\n",
       "      <td>...</td>\n",
       "      <td>-0.033005</td>\n",
       "      <td>-0.009946</td>\n",
       "      <td>-0.020345</td>\n",
       "      <td>0.013041</td>\n",
       "      <td>0.019639</td>\n",
       "      <td>0.024916</td>\n",
       "      <td>-0.026550</td>\n",
       "      <td>-0.056702</td>\n",
       "      <td>0.056844</td>\n",
       "      <td>0.133652</td>\n",
       "    </tr>\n",
       "    <tr>\n",
       "      <th>4</th>\n",
       "      <td>0.017050</td>\n",
       "      <td>0.022067</td>\n",
       "      <td>-0.036084</td>\n",
       "      <td>0.040988</td>\n",
       "      <td>0.001289</td>\n",
       "      <td>0.038791</td>\n",
       "      <td>-0.050136</td>\n",
       "      <td>-0.021242</td>\n",
       "      <td>-0.006880</td>\n",
       "      <td>-0.012500</td>\n",
       "      <td>...</td>\n",
       "      <td>0.009720</td>\n",
       "      <td>-0.006165</td>\n",
       "      <td>-0.050009</td>\n",
       "      <td>-0.007232</td>\n",
       "      <td>0.016348</td>\n",
       "      <td>0.006368</td>\n",
       "      <td>0.022296</td>\n",
       "      <td>-0.005299</td>\n",
       "      <td>0.028985</td>\n",
       "      <td>0.002352</td>\n",
       "    </tr>\n",
       "    <tr>\n",
       "      <th>5</th>\n",
       "      <td>-0.034572</td>\n",
       "      <td>-0.030762</td>\n",
       "      <td>-0.051101</td>\n",
       "      <td>-0.086641</td>\n",
       "      <td>-0.025164</td>\n",
       "      <td>0.005332</td>\n",
       "      <td>-0.028281</td>\n",
       "      <td>0.025686</td>\n",
       "      <td>-0.041621</td>\n",
       "      <td>-0.038750</td>\n",
       "      <td>...</td>\n",
       "      <td>-0.017533</td>\n",
       "      <td>0.007516</td>\n",
       "      <td>0.002488</td>\n",
       "      <td>-0.010030</td>\n",
       "      <td>0.002354</td>\n",
       "      <td>0.009506</td>\n",
       "      <td>0.020183</td>\n",
       "      <td>0.000352</td>\n",
       "      <td>0.013323</td>\n",
       "      <td>0.140841</td>\n",
       "    </tr>\n",
       "  </tbody>\n",
       "</table>\n",
       "<p>5 rows × 272 columns</p>\n",
       "</div>"
      ],
      "text/plain": [
       "symptom         1         2         3         4         5         6         7  \\\n",
       "1        0.205484  0.272114  0.043167 -0.047387 -0.021459  0.015953  0.633309   \n",
       "2       -0.046659 -0.078299 -0.071982  0.063161  0.045799 -0.004549 -0.168562   \n",
       "3        0.114272  0.381978  0.005659  0.049680 -0.043052 -0.014820  0.091332   \n",
       "4        0.017050  0.022067 -0.036084  0.040988  0.001289  0.038791 -0.050136   \n",
       "5       -0.034572 -0.030762 -0.051101 -0.086641 -0.025164  0.005332 -0.028281   \n",
       "\n",
       "symptom         8         9        10  ...       290       291       292  \\\n",
       "1       -0.019115 -0.073327 -0.012857  ... -0.029264 -0.128676 -0.001867   \n",
       "2        0.049388  0.049649 -0.014734  ...  0.074478  0.079732  0.024173   \n",
       "3       -0.013405 -0.059609  0.009341  ... -0.033005 -0.009946 -0.020345   \n",
       "4       -0.021242 -0.006880 -0.012500  ...  0.009720 -0.006165 -0.050009   \n",
       "5        0.025686 -0.041621 -0.038750  ... -0.017533  0.007516  0.002488   \n",
       "\n",
       "symptom       293       294       295       301       303       304       306  \n",
       "1       -0.023130 -0.015429  0.002837 -0.018442 -0.040733 -0.045832  0.113079  \n",
       "2        0.001410 -0.000718 -0.005382 -0.054203  0.022342 -0.022638 -0.059992  \n",
       "3        0.013041  0.019639  0.024916 -0.026550 -0.056702  0.056844  0.133652  \n",
       "4       -0.007232  0.016348  0.006368  0.022296 -0.005299  0.028985  0.002352  \n",
       "5       -0.010030  0.002354  0.009506  0.020183  0.000352  0.013323  0.140841  \n",
       "\n",
       "[5 rows x 272 columns]"
      ]
     },
     "execution_count": 16,
     "metadata": {},
     "output_type": "execute_result"
    }
   ],
   "source": [
    "Disease_df = pd.DataFrame(cosine_similarity(Ur,VTr.T), columns=symptom_count.index, index=list(sum_disease.index)) \n",
    "Disease_df.head()"
   ]
  },
  {
   "cell_type": "markdown",
   "metadata": {},
   "source": [
    "### Demonstração de usabilidade"
   ]
  },
  {
   "cell_type": "code",
   "execution_count": 17,
   "metadata": {},
   "outputs": [
    {
     "name": "stdout",
     "output_type": "stream",
     "text": [
      "Sintoma       Symptom_id Symptom_desc\n",
      "227         272   Skin bumps\n",
      "Top 10 prováveis doênças relacionadas\n",
      "--------------------------------------\n",
      "1170 ['Viral exanthem rash from viral infection']\n",
      "877 ['Acne pimples']\n",
      "684 ['Sebaceous cyst sac under the skin']\n",
      "188 ['Contact dermatitis contact skin irritation']\n",
      "884 ['Cradle cap infant scalp rash']\n",
      "431 ['Lipoma benign fatty tumor']\n",
      "79 ['Balanitis penis swelling']\n",
      "1057 ['Hidradenitis suppurativa chronic collections of pus']\n",
      "443 ['Lymphangitis lymph tissue inflammation']\n",
      "860 ['Fifth disease erythema infectiosum, viral illness']\n"
     ]
    }
   ],
   "source": [
    "#Sintoma 35 = Foot pain\n",
    "\n",
    "print(\"Sintoma \", all_symptoms[all_symptoms['Symptom_id'] == 272])\n",
    "print(\"Top 10 prováveis doênças relacionadas\")\n",
    "print(\"--------------------------------------\")\n",
    "listProb = Disease_df[272].sort_values(ascending=False).index\n",
    "for x in listProb[:10]:\n",
    "    print(x, all_diseases[all_diseases['Disease_id'] == x].Disease_desc.values)"
   ]
  },
  {
   "cell_type": "markdown",
   "metadata": {},
   "source": [
    "### Compilando os exemplos acima em uma classe"
   ]
  },
  {
   "cell_type": "code",
   "execution_count": 22,
   "metadata": {},
   "outputs": [],
   "source": [
    "class preliminary_diagnosis():    \n",
    "    def __init__(self, b=0.3, k=1, symptoms = pd.DataFrame(), diseases = pd.DataFrame()):\n",
    "        self.b = b\n",
    "        self.k = k\n",
    "        self.all_symptoms = symptoms\n",
    "        self.all_diseases = diseases\n",
    "        \n",
    "        \n",
    "    def bm25_weight(self, data, K1=1, B=0.3):\n",
    "        \"\"\" Weighs each row of the matrix data by BM25 weighting \"\"\"\n",
    "        # calculate idf per term (symptom)\n",
    "        N = float(data.shape[0])\n",
    "        idf = np.log(N / (1 + np.bincount(data.col)))\n",
    "\n",
    "        # calculate length_norm per document (disease)\n",
    "        row_sums = np.squeeze(np.asarray(data.sum(1)))\n",
    "        average_length = row_sums.sum() / N\n",
    "        length_norm = (1.0 - B) + B * row_sums / average_length\n",
    "\n",
    "        # weight matrix rows by bm25\n",
    "        ret = coo_matrix(data)\n",
    "        ret.data = ret.data * (K1 + 1.0) / (K1 * length_norm[ret.row] + ret.data) * idf[ret.col]\n",
    "        return ret\n",
    "    \n",
    "    \n",
    "    def fit(self, filename, separator):\n",
    "        \"\"\" Reads in the dataset, and returns a tuple of a pandas dataframe and a sparse matrix of symptom/disease/severity \"\"\"\n",
    "        data = pd.read_csv(filename, \n",
    "                           separator, \n",
    "                           usecols=[0,1,2], \n",
    "                           names=['symptom', 'disease','severities'], \n",
    "                           skiprows=1)\n",
    "\n",
    "        data=data.dropna()\n",
    "\n",
    "        # map each disease and symptom to a unique numeric value\n",
    "        data['symptom'] = data['symptom'].astype(\"category\")\n",
    "        data['disease'] = data['disease'].astype(\"category\")\n",
    "\n",
    "        # create a sparse matrix of all the symptoms/severities\n",
    "        sev = coo_matrix((data['severities'].astype(float),\n",
    "                           (data['disease'].cat.codes.copy(),\n",
    "                            data['symptom'].cat.codes.copy())))\n",
    "\n",
    "        self.data = data\n",
    "        self.matrix = sev\n",
    "        self.sum_disease = data.groupby(['disease']).severities.sum()\n",
    "        self.symptom = data['symptom'].cat.codes.copy()\n",
    "        \n",
    "        self.symptom_count = data.groupby('symptom').size()\n",
    "        \n",
    "        Ur, Si, VTr = svds(self.bm25_weight(self.matrix), k=100)\n",
    "        VTr = pd.DataFrame(VTr)\n",
    "        \n",
    "        self.dataset_result = pd.DataFrame(cosine_similarity(Ur,VTr.T), columns=self.symptom_count.index, index=list(self.sum_disease.index)) \n",
    "        return self.dataset_result\n",
    "\n",
    "    def get_diseases_by_symptoms(self, symptom_id):\n",
    "        print(\"Sintoma \", (self.all_symptoms[self.all_symptoms['Symptom_id'] == symptom_id])['Symptom_desc'].values[0])\n",
    "        print(\"Top 10 prováveis doênças relacionadas\")\n",
    "        print(\"--------------------------------------\")\n",
    "        listProb = self.dataset_result[symptom_id].sort_values(ascending=False).index\n",
    "        for x in listProb[:10]:\n",
    "            print(x, self.all_diseases[self.all_diseases['Disease_id'] == x].Disease_desc.values)"
   ]
  },
  {
   "cell_type": "markdown",
   "metadata": {},
   "source": [
    "### Utilizando a cognição preliminar pelo objeto de classe"
   ]
  },
  {
   "cell_type": "code",
   "execution_count": 23,
   "metadata": {},
   "outputs": [
    {
     "name": "stdout",
     "output_type": "stream",
     "text": [
      "Sintoma  Foot pain\n",
      "Top 10 prováveis doênças relacionadas\n",
      "--------------------------------------\n",
      "1097 ['Flat feet pes planus']\n",
      "1098 ['Heel spur']\n",
      "621 ['Puncture wound']\n",
      "582 ['Plantar wart human papilloma virus infection, foot warts']\n",
      "947 ['Foot fracture broken foot']\n",
      "1287 ['Foot sprain']\n",
      "963 [\"Sever's disease calcaneal apophysitis, common cause of heel pain\"]\n",
      "581 ['Plantar fasciitis inflammation of tissue at the bottom of the foot']\n",
      "324 ['Hammer toes toe deformity']\n",
      "124 ['Calluses and corns']\n"
     ]
    }
   ],
   "source": [
    "all_symptoms = pd.read_csv('archives/all_symptoms.csv', ';')\n",
    "all_diseases = pd.read_csv('archives/all_disease.csv', ';')\n",
    "\n",
    "modelo = preliminary_diagnosis(k=1, b=0.3, symptoms = all_symptoms, diseases = all_diseases)\n",
    "modelo.fit('archives/dataset.csv', ';')\n",
    "modelo.get_diseases_by_symptoms(35)"
   ]
  },
  {
   "cell_type": "markdown",
   "metadata": {},
   "source": [
    "## Evaluating - Avaliando a performance do modelo"
   ]
  },
  {
   "cell_type": "code",
   "execution_count": 18,
   "metadata": {},
   "outputs": [],
   "source": [
    "from sklearn.linear_model import LogisticRegression\n",
    "from xgboost import XGBClassifier\n",
    "\n",
    "from sklearn.model_selection import cross_val_predict\n",
    "from sklearn.model_selection import StratifiedKFold\n",
    "from sklearn.metrics import log_loss, accuracy_score\n",
    "\n",
    "import scikitplot.plotters as skplt"
   ]
  },
  {
   "cell_type": "code",
   "execution_count": 20,
   "metadata": {},
   "outputs": [],
   "source": [
    "def evaluate(X, y, clf=None):\n",
    "    probas = cross_val_predict(clf, X, y, cv=StratifiedKFold(n_splits=5, random_state=8, shuffle=True), \n",
    "                               n_jobs=-1, method='predict_proba', verbose=2)\n",
    "    \n",
    "    pred_indices = np.argmax(probas, axis=1)\n",
    "    classes = np.unique(y)\n",
    "    preds = classes[pred_indices]\n",
    "    print('Log loss: {}'.format(log_loss(y, probas)))\n",
    "    print('Accuracy: {}'.format(accuracy_score(y, preds)))\n",
    "    skplt.plot_confusion_matrix(y, preds)\n"
   ]
  },
  {
   "cell_type": "code",
   "execution_count": 30,
   "metadata": {},
   "outputs": [],
   "source": [
    "modelo = preliminary_diagnosis(k=1, b=0.3, symptoms = all_symptoms, diseases = all_diseases)\n",
    "X = modelo.fit('archives/dataset.csv', ';')\n",
    "\n",
    "weight = bm25_weight(matrix)\n",
    "weight_df = pd.DataFrame(weight.toarray())\n",
    "y = weight_df.max(axis=1).astype('int').values"
   ]
  },
  {
   "cell_type": "code",
   "execution_count": 31,
   "metadata": {
    "scrolled": true
   },
   "outputs": [
    {
     "name": "stderr",
     "output_type": "stream",
     "text": [
      "c:\\users\\arthu\\anaconda3\\envs\\epidemia\\lib\\site-packages\\sklearn\\model_selection\\_split.py:668: UserWarning: The least populated class in y has only 3 members, which is less than n_splits=5.\n",
      "  % (min_groups, self.n_splits)), UserWarning)\n",
      "[Parallel(n_jobs=-1)]: Using backend LokyBackend with 4 concurrent workers.\n",
      "[Parallel(n_jobs=-1)]: Done   5 out of   5 | elapsed:    5.1s finished\n",
      "c:\\users\\arthu\\anaconda3\\envs\\epidemia\\lib\\site-packages\\sklearn\\utils\\deprecation.py:86: FutureWarning: Function plot_confusion_matrix is deprecated; This will be removed in v0.4.0. Please use scikitplot.metrics.plot_confusion_matrix instead.\n",
      "  warnings.warn(msg, category=FutureWarning)\n"
     ]
    },
    {
     "name": "stdout",
     "output_type": "stream",
     "text": [
      "Log loss: 1.6032106051839263\n",
      "Accuracy: 0.4794168096054888\n"
     ]
    },
    {
     "data": {
      "image/png": "[encoded data removed]",
      "text/plain": [
       "<Figure size 432x288 with 2 Axes>"
      ]
     },
     "metadata": {
      "needs_background": "light"
     },
     "output_type": "display_data"
    }
   ],
   "source": [
    "evaluate(X, y, clf=LogisticRegression())\n"
   ]
  },
  {
   "cell_type": "code",
   "execution_count": 29,
   "metadata": {},
   "outputs": [
    {
     "name": "stderr",
     "output_type": "stream",
     "text": [
      "c:\\users\\arthu\\anaconda3\\envs\\epidemia\\lib\\site-packages\\sklearn\\model_selection\\_split.py:668: UserWarning: The least populated class in y has only 3 members, which is less than n_splits=5.\n",
      "  % (min_groups, self.n_splits)), UserWarning)\n",
      "[Parallel(n_jobs=-1)]: Using backend LokyBackend with 4 concurrent workers.\n",
      "[Parallel(n_jobs=-1)]: Done   5 out of   5 | elapsed:   48.0s finished\n",
      "c:\\users\\arthu\\anaconda3\\envs\\epidemia\\lib\\site-packages\\sklearn\\utils\\deprecation.py:86: FutureWarning: Function plot_confusion_matrix is deprecated; This will be removed in v0.4.0. Please use scikitplot.metrics.plot_confusion_matrix instead.\n",
      "  warnings.warn(msg, category=FutureWarning)\n"
     ]
    },
    {
     "name": "stdout",
     "output_type": "stream",
     "text": [
      "Log loss: 1.5938048736609824\n",
      "Accuracy: 0.5283018867924528\n"
     ]
    },
    {
     "data": {
      "image/png": "[encoded data removed]",
      "text/plain": [
       "<Figure size 432x288 with 2 Axes>"
      ]
     },
     "metadata": {
      "needs_background": "light"
     },
     "output_type": "display_data"
    }
   ],
   "source": [
    "evaluate(X, y, clf=XGBClassifier())\n"
   ]
  }
 ],
 "metadata": {
  "kernelspec": {
   "display_name": "Python 3",
   "language": "python",
   "name": "python3"
  },
  "language_info": {
   "codemirror_mode": {
    "name": "ipython",
    "version": 3
   },
   "file_extension": ".py",
   "mimetype": "text/x-python",
   "name": "python",
   "nbconvert_exporter": "python",
   "pygments_lexer": "ipython3",
   "version": "3.6.9"
  }
 },
 "nbformat": 4,
 "nbformat_minor": 2
}
